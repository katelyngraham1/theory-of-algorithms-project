{
 "cells": [
  {
   "attachments": {},
   "cell_type": "markdown",
   "id": "2e14da34",
   "metadata": {},
   "source": [
    "#  The Polynomial Time Complexity Class (P)"
   ]
  },
  {
   "cell_type": "markdown",
   "id": "ab3f1b28",
   "metadata": {},
   "source": []
  }
 ],
 "metadata": {
  "kernelspec": {
   "display_name": "Python 3 (ipykernel)",
   "language": "python",
   "name": "python3"
  },
  "language_info": {
   "codemirror_mode": {
    "name": "ipython",
    "version": 3
   },
   "file_extension": ".py",
   "mimetype": "text/x-python",
   "name": "python",
   "nbconvert_exporter": "python",
   "pygments_lexer": "ipython3",
   "version": "3.9.7"
  }
 },
 "nbformat": 4,
 "nbformat_minor": 5
}
